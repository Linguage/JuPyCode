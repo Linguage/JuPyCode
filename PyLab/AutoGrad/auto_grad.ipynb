>>> from autograd import elementwise_grad as egrad  # for functions that vectorize over inputs
>>> import matplotlib.pyplot as plt
>>> x = np.linspace(-7, 7, 200)