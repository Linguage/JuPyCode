{
 "cells": [
  {
   "cell_type": "code",
   "execution_count": 6,
   "metadata": {},
   "outputs": [
    {
     "name": "stdout",
     "output_type": "stream",
     "text": [
      "|   iter    |  target   |     x     |     y     |\n",
      "-------------------------------------------------\n",
      "| \u001b[0m1        \u001b[0m | \u001b[0m2.435    \u001b[0m | \u001b[0m1.498    \u001b[0m | \u001b[0m5.704    \u001b[0m |\n",
      "| \u001b[95m2        \u001b[0m | \u001b[95m8.788    \u001b[0m | \u001b[95m2.928    \u001b[0m | \u001b[95m3.592    \u001b[0m |\n",
      "| \u001b[0m3        \u001b[0m | \u001b[0m3.847    \u001b[0m | \u001b[0m0.6241   \u001b[0m | \u001b[0m0.936    \u001b[0m |\n",
      "| \u001b[0m4        \u001b[0m | \u001b[0m2.048    \u001b[0m | \u001b[0m0.2323   \u001b[0m | \u001b[0m5.197    \u001b[0m |\n",
      "| \u001b[0m5        \u001b[0m | \u001b[0m8.278    \u001b[0m | \u001b[0m2.404    \u001b[0m | \u001b[0m4.248    \u001b[0m |\n",
      "| \u001b[0m6        \u001b[0m | \u001b[0m3.167    \u001b[0m | \u001b[0m4.0      \u001b[0m | \u001b[0m4.683    \u001b[0m |\n",
      "| \u001b[95m7        \u001b[0m | \u001b[95m9.946    \u001b[0m | \u001b[95m2.049    \u001b[0m | \u001b[95m3.227    \u001b[0m |\n",
      "| \u001b[0m8        \u001b[0m | \u001b[0m7.173    \u001b[0m | \u001b[0m3.162    \u001b[0m | \u001b[0m1.785    \u001b[0m |\n",
      "| \u001b[0m9        \u001b[0m | \u001b[0m-3.0     \u001b[0m | \u001b[0m4.0      \u001b[0m | \u001b[0m0.0      \u001b[0m |\n",
      "| \u001b[0m10       \u001b[0m | \u001b[0m7.225    \u001b[0m | \u001b[0m0.3351   \u001b[0m | \u001b[0m2.942    \u001b[0m |\n",
      "| \u001b[0m11       \u001b[0m | \u001b[0m9.428    \u001b[0m | \u001b[0m1.956    \u001b[0m | \u001b[0m2.245    \u001b[0m |\n",
      "| \u001b[0m12       \u001b[0m | \u001b[0m9.52     \u001b[0m | \u001b[0m2.618    \u001b[0m | \u001b[0m2.688    \u001b[0m |\n",
      "| \u001b[0m13       \u001b[0m | \u001b[0m9.688    \u001b[0m | \u001b[0m1.456    \u001b[0m | \u001b[0m2.872    \u001b[0m |\n",
      "| \u001b[0m14       \u001b[0m | \u001b[0m9.44     \u001b[0m | \u001b[0m1.534    \u001b[0m | \u001b[0m3.585    \u001b[0m |\n",
      "| \u001b[95m15       \u001b[0m | \u001b[95m9.963    \u001b[0m | \u001b[95m1.981    \u001b[0m | \u001b[95m2.807    \u001b[0m |\n",
      "=================================================\n",
      "Best Parameters: {'x': 1.9812444079999902, 'y': 2.807462369516452}\n",
      "Best Objective Value: 9.96257748861651\n"
     ]
    }
   ],
   "source": [
    "from bayes_opt import BayesianOptimization\n",
    "\n",
    "# 定义目标函数（模拟的物理实验）\n",
    "def simulated_experiment(x, y):\n",
    "    # 模拟目标函数\n",
    "    # 这个函数是一个简单的例子，可以替换为实际的实验函数\n",
    "    # 例如：测量某种材料在不同温度和压力下的性能\n",
    "    return -((x - 2)**2 + (y - 3)**2) + 10\n",
    "\n",
    "# 定义贝叶斯优化对象\n",
    "optimizer = BayesianOptimization(\n",
    "    f=simulated_experiment,  # 目标函数\n",
    "    pbounds={'x': (0, 4), 'y': (0, 6)},  # 参数边界\n",
    "    random_state=42,\n",
    ")\n",
    "\n",
    "# 运行优化\n",
    "optimizer.maximize(\n",
    "    init_points=5,  # 初始化探索点的数量\n",
    "    n_iter=10,  # 优化迭代次数\n",
    ")\n",
    "\n",
    "# 输出最佳参数和最佳目标值\n",
    "print(\"Best Parameters:\", optimizer.max['params'])\n",
    "print(\"Best Objective Value:\", optimizer.max['target'])\n"
   ]
  },
  {
   "cell_type": "code",
   "execution_count": 1,
   "metadata": {},
   "outputs": [],
   "source": [
    "def black_box_function(x, y):\n",
    "    \"\"\"Function with unknown internals we wish to maximize.\n",
    "\n",
    "    This is just serving as an example, for all intents and\n",
    "    purposes think of the internals of this function, i.e.: the process\n",
    "    which generates its output values, as unknown.\n",
    "    \"\"\"\n",
    "    return -x ** 2 - (y - 1) ** 2 + 1"
   ]
  },
  {
   "cell_type": "code",
   "execution_count": 2,
   "metadata": {},
   "outputs": [],
   "source": [
    "from bayes_opt import BayesianOptimization\n",
    "\n",
    "# Bounded region of parameter space\n",
    "pbounds = {'x': (2, 4), 'y': (-3, 3)}\n",
    "\n",
    "optimizer = BayesianOptimization(\n",
    "    f=black_box_function,\n",
    "    pbounds=pbounds,\n",
    "    random_state=1,\n",
    ")"
   ]
  },
  {
   "cell_type": "code",
   "execution_count": 3,
   "metadata": {},
   "outputs": [
    {
     "name": "stdout",
     "output_type": "stream",
     "text": [
      "|   iter    |  target   |     x     |     y     |\n",
      "-------------------------------------------------\n",
      "| \u001b[0m1        \u001b[0m | \u001b[0m-7.135   \u001b[0m | \u001b[0m2.834    \u001b[0m | \u001b[0m1.322    \u001b[0m |\n",
      "| \u001b[0m2        \u001b[0m | \u001b[0m-7.78    \u001b[0m | \u001b[0m2.0      \u001b[0m | \u001b[0m-1.186   \u001b[0m |\n",
      "| \u001b[95m3        \u001b[0m | \u001b[95m-7.11    \u001b[0m | \u001b[95m2.218    \u001b[0m | \u001b[95m-0.7867  \u001b[0m |\n",
      "| \u001b[0m4        \u001b[0m | \u001b[0m-12.4    \u001b[0m | \u001b[0m3.66     \u001b[0m | \u001b[0m0.9608   \u001b[0m |\n",
      "| \u001b[95m5        \u001b[0m | \u001b[95m-6.999   \u001b[0m | \u001b[95m2.23     \u001b[0m | \u001b[95m-0.7392  \u001b[0m |\n",
      "=================================================\n"
     ]
    }
   ],
   "source": [
    "optimizer.maximize(\n",
    "    init_points=2,\n",
    "    n_iter=3,\n",
    ")"
   ]
  },
  {
   "cell_type": "code",
   "execution_count": 4,
   "metadata": {},
   "outputs": [
    {
     "name": "stdout",
     "output_type": "stream",
     "text": [
      "{'target': -6.999472814518675, 'params': {'x': 2.2303920156083024, 'y': -0.7392021938893159}}\n"
     ]
    }
   ],
   "source": [
    "print(optimizer.max)"
   ]
  },
  {
   "cell_type": "code",
   "execution_count": 5,
   "metadata": {},
   "outputs": [
    {
     "name": "stdout",
     "output_type": "stream",
     "text": [
      "Iteration 0: \n",
      "\t{'target': -7.135455292718879, 'params': {'x': 2.8340440094051482, 'y': 1.3219469606529488}}\n",
      "Iteration 1: \n",
      "\t{'target': -7.779531005607566, 'params': {'x': 2.0002287496346898, 'y': -1.1860045642089614}}\n",
      "Iteration 2: \n",
      "\t{'target': -7.109925819441113, 'params': {'x': 2.2175526295255183, 'y': -0.7867249801593896}}\n",
      "Iteration 3: \n",
      "\t{'target': -12.397162416009818, 'params': {'x': 3.660003815774634, 'y': 0.9608275029525108}}\n",
      "Iteration 4: \n",
      "\t{'target': -6.999472814518675, 'params': {'x': 2.2303920156083024, 'y': -0.7392021938893159}}\n"
     ]
    }
   ],
   "source": [
    "for i, res in enumerate(optimizer.res):\n",
    "    print(\"Iteration {}: \\n\\t{}\".format(i, res))"
   ]
  },
  {
   "cell_type": "code",
   "execution_count": 6,
   "metadata": {},
   "outputs": [
    {
     "name": "stdout",
     "output_type": "stream",
     "text": [
      "|   iter    |  target   |     x     |     y     |\n",
      "-------------------------------------------------\n",
      "| \u001b[95m6        \u001b[0m | \u001b[95m-2.942   \u001b[0m | \u001b[95m1.98     \u001b[0m | \u001b[95m0.8567   \u001b[0m |\n",
      "| \u001b[95m7        \u001b[0m | \u001b[95m-0.4597  \u001b[0m | \u001b[95m1.096    \u001b[0m | \u001b[95m1.508    \u001b[0m |\n",
      "| \u001b[95m8        \u001b[0m | \u001b[95m0.5304   \u001b[0m | \u001b[95m-0.6807  \u001b[0m | \u001b[95m1.079    \u001b[0m |\n",
      "| \u001b[0m9        \u001b[0m | \u001b[0m-5.33    \u001b[0m | \u001b[0m-1.526   \u001b[0m | \u001b[0m3.0      \u001b[0m |\n",
      "| \u001b[0m10       \u001b[0m | \u001b[0m-5.419   \u001b[0m | \u001b[0m-2.0     \u001b[0m | \u001b[0m-0.5552  \u001b[0m |\n",
      "=================================================\n"
     ]
    }
   ],
   "source": [
    "optimizer.set_bounds(new_bounds={\"x\": (-2, 3)})\n",
    "\n",
    "optimizer.maximize(\n",
    "    init_points=0,\n",
    "    n_iter=5,\n",
    ")"
   ]
  }
 ],
 "metadata": {
  "kernelspec": {
   "display_name": "Python 3",
   "language": "python",
   "name": "python3"
  },
  "language_info": {
   "codemirror_mode": {
    "name": "ipython",
    "version": 3
   },
   "file_extension": ".py",
   "mimetype": "text/x-python",
   "name": "python",
   "nbconvert_exporter": "python",
   "pygments_lexer": "ipython3",
   "version": "3.10.12"
  }
 },
 "nbformat": 4,
 "nbformat_minor": 2
}
