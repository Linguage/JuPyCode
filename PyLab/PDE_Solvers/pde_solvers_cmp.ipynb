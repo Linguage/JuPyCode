{
 "cells": [
  {
   "cell_type": "code",
   "execution_count": 1,
   "metadata": {},
   "outputs": [],
   "source": [
    "import numpy as np\n",
    "import matplotlib.pyplot as plt\n",
    "\n",
    "\n"
   ]
  },
  {
   "cell_type": "code",
   "execution_count": 2,
   "metadata": {},
   "outputs": [],
   "source": [
    "# 问题参数\n",
    "L = 1.0  # 空间范围\n",
    "c = 1.0  # 波速\n",
    "T = 2.0  # 时间范围\n",
    "dx = 0.01  # 空间步长\n",
    "dt = 0.005  # 时间步长\n",
    "nx = int(L / dx) + 1  # 空间步数\n",
    "nt = int(T / dt) + 1  # 时间步数\n",
    "\n",
    "x = np.linspace(0, L, nx)\n",
    "t = np.linspace(0, T, nt)\n",
    "\n",
    "# 初始条件\n",
    "u0 = np.sin(np.pi * x)\n",
    "v0 = np.zeros_like(x)\n",
    "\n"
   ]
  },
  {
   "cell_type": "code",
   "execution_count": 3,
   "metadata": {},
   "outputs": [],
   "source": [
    "# Newmark 法\n",
    "def newmark(u0, v0, c, dx, dt, nx, nt, beta=0.25, gamma=0.5):\n",
    "    u = np.zeros((nt, nx))\n",
    "    v = np.zeros((nt, nx))\n",
    "    a = np.zeros((nt, nx))\n",
    "    u[0, :] = u0\n",
    "    v[0, :] = v0\n",
    "\n",
    "    # Newmark 法\n",
    "    for n in range(1, nt):\n",
    "        # 计算加速度\n",
    "        a[n-1, 1:-1] = (u[n-1, 2:] - 2 * u[n-1, 1:-1] + u[n-1, :-2]) / dx**2 * c**2\n",
    "        \n",
    "        # 更新位移和速度\n",
    "        u[n, 1:-1] = (u[n-1, 1:-1] + dt * v[n-1, 1:-1] + \n",
    "                     (0.5 - beta) * dt**2 * a[n-1, 1:-1])\n",
    "        v[n, 1:-1] = (v[n-1, 1:-1] + dt * ((1 - gamma) * a[n-1, 1:-1]))\n",
    "\n",
    "        # 边界条件\n",
    "        u[n, 0] = 0\n",
    "        u[n, -1] = 0\n",
    "    \n",
    "    return u\n",
    "\n"
   ]
  },
  {
   "cell_type": "code",
   "execution_count": 14,
   "metadata": {},
   "outputs": [],
   "source": [
    "def runge_kutta(u0, v0, c, dx, dt, nx, nt):\n",
    "    u = np.zeros((nt, nx))\n",
    "    v = np.zeros((nt, nx))\n",
    "    a = np.zeros((nt, nx))\n",
    "    u[0, :] = u0\n",
    "    v[0, :] = v0\n",
    "\n",
    "    # Runge-Kutta 四阶法\n",
    "    for n in range(1, nt):\n",
    "        # 第1步\n",
    "        k1_a = (u[n-1, 2:] - 2 * u[n-1, 1:-1] + u[n-1, :-2]) / dx**2 * c**2\n",
    "        k1_v = v[n-1, 1:-1] + dt * k1_a / 2\n",
    "        k1_u = u[n-1, 1:-1] + dt * v[n-1, 1:-1] / 2\n",
    "        \n",
    "        # 第2步\n",
    "        u_mid = u[n-1, 1:-1] + k1_u * dt / 2\n",
    "        v_mid = v[n-1, 1:-1] + k1_v * dt / 2\n",
    "        k2_a = (u_mid[1:] - 2 * u_mid + u_mid[:-1]) / dx**2 * c**2\n",
    "        k2_v = v_mid + dt * k2_a / 2\n",
    "        k2_u = u_mid + dt * v_mid / 2\n",
    "        \n",
    "        # 第3步\n",
    "        u_mid = u[n-1, 1:-1] + k2_u * dt / 2\n",
    "        v_mid = v[n-1, 1:-1] + k2_v * dt / 2\n",
    "        k3_a = (u_mid[1:] - 2 * u_mid + u_mid[:-1]) / dx**2 * c**2\n",
    "        k3_v = v_mid + dt * k3_a\n",
    "        k3_u = u_mid + dt * v_mid\n",
    "        \n",
    "        # 第4步\n",
    "        k4_a = (k3_u[1:] - 2 * k3_u + k3_u[:-1]) / dx**2 * c**2\n",
    "        k4_v = v[n-1, 1:-1] + dt * k4_a\n",
    "        k4_u = u[n-1, 1:-1] + dt * k3_v\n",
    "        \n",
    "        # 更新位移和速度\n",
    "        a[n, 1:-1] = (k1_a + 2 * k2_a + 2 * k3_a + k4_a) / 6\n",
    "        u[n, 1:-1] = u[n-1, 1:-1] + dt * (v[n-1, 1:-1] + (k1_v + 2 * k2_v + 2 * k3_v + k4_v) / 6)\n",
    "        v[n, 1:-1] = v[n-1, 1:-1] + dt * a[n, 1:-1]\n",
    "        \n",
    "        # 边界条件\n",
    "        u[n, 0] = 0\n",
    "        u[n, -1] = 0\n",
    "    \n",
    "    return u\n"
   ]
  },
  {
   "cell_type": "code",
   "execution_count": 9,
   "metadata": {},
   "outputs": [],
   "source": [
    "\n",
    "# 执行 Newmark 法和 Runge-Kutta 法\n",
    "newmark_solution = newmark(u0, v0, c, dx, dt, nx, nt)\n",
    "\n"
   ]
  },
  {
   "cell_type": "code",
   "execution_count": 15,
   "metadata": {},
   "outputs": [
    {
     "ename": "ValueError",
     "evalue": "operands could not be broadcast together with shapes (98,) (99,) ",
     "output_type": "error",
     "traceback": [
      "\u001b[0;31m---------------------------------------------------------------------------\u001b[0m",
      "\u001b[0;31mValueError\u001b[0m                                Traceback (most recent call last)",
      "Cell \u001b[0;32mIn[15], line 1\u001b[0m\n\u001b[0;32m----> 1\u001b[0m runge_kutta_solution \u001b[38;5;241m=\u001b[39m \u001b[43mrunge_kutta\u001b[49m\u001b[43m(\u001b[49m\u001b[43mu0\u001b[49m\u001b[43m,\u001b[49m\u001b[43m \u001b[49m\u001b[43mv0\u001b[49m\u001b[43m,\u001b[49m\u001b[43m \u001b[49m\u001b[43mc\u001b[49m\u001b[43m,\u001b[49m\u001b[43m \u001b[49m\u001b[43mdx\u001b[49m\u001b[43m,\u001b[49m\u001b[43m \u001b[49m\u001b[43mdt\u001b[49m\u001b[43m,\u001b[49m\u001b[43m \u001b[49m\u001b[43mnx\u001b[49m\u001b[43m,\u001b[49m\u001b[43m \u001b[49m\u001b[43mnt\u001b[49m\u001b[43m)\u001b[49m\n",
      "Cell \u001b[0;32mIn[14], line 18\u001b[0m, in \u001b[0;36mrunge_kutta\u001b[0;34m(u0, v0, c, dx, dt, nx, nt)\u001b[0m\n\u001b[1;32m     16\u001b[0m u_mid \u001b[38;5;241m=\u001b[39m u[n\u001b[38;5;241m-\u001b[39m\u001b[38;5;241m1\u001b[39m, \u001b[38;5;241m1\u001b[39m:\u001b[38;5;241m-\u001b[39m\u001b[38;5;241m1\u001b[39m] \u001b[38;5;241m+\u001b[39m k1_u \u001b[38;5;241m*\u001b[39m dt \u001b[38;5;241m/\u001b[39m \u001b[38;5;241m2\u001b[39m\n\u001b[1;32m     17\u001b[0m v_mid \u001b[38;5;241m=\u001b[39m v[n\u001b[38;5;241m-\u001b[39m\u001b[38;5;241m1\u001b[39m, \u001b[38;5;241m1\u001b[39m:\u001b[38;5;241m-\u001b[39m\u001b[38;5;241m1\u001b[39m] \u001b[38;5;241m+\u001b[39m k1_v \u001b[38;5;241m*\u001b[39m dt \u001b[38;5;241m/\u001b[39m \u001b[38;5;241m2\u001b[39m\n\u001b[0;32m---> 18\u001b[0m k2_a \u001b[38;5;241m=\u001b[39m (\u001b[43mu_mid\u001b[49m\u001b[43m[\u001b[49m\u001b[38;5;241;43m1\u001b[39;49m\u001b[43m:\u001b[49m\u001b[43m]\u001b[49m\u001b[43m \u001b[49m\u001b[38;5;241;43m-\u001b[39;49m\u001b[43m \u001b[49m\u001b[38;5;241;43m2\u001b[39;49m\u001b[43m \u001b[49m\u001b[38;5;241;43m*\u001b[39;49m\u001b[43m \u001b[49m\u001b[43mu_mid\u001b[49m \u001b[38;5;241m+\u001b[39m u_mid[:\u001b[38;5;241m-\u001b[39m\u001b[38;5;241m1\u001b[39m]) \u001b[38;5;241m/\u001b[39m dx\u001b[38;5;241m*\u001b[39m\u001b[38;5;241m*\u001b[39m\u001b[38;5;241m2\u001b[39m \u001b[38;5;241m*\u001b[39m c\u001b[38;5;241m*\u001b[39m\u001b[38;5;241m*\u001b[39m\u001b[38;5;241m2\u001b[39m\n\u001b[1;32m     19\u001b[0m k2_v \u001b[38;5;241m=\u001b[39m v_mid \u001b[38;5;241m+\u001b[39m dt \u001b[38;5;241m*\u001b[39m k2_a \u001b[38;5;241m/\u001b[39m \u001b[38;5;241m2\u001b[39m\n\u001b[1;32m     20\u001b[0m k2_u \u001b[38;5;241m=\u001b[39m u_mid \u001b[38;5;241m+\u001b[39m dt \u001b[38;5;241m*\u001b[39m v_mid \u001b[38;5;241m/\u001b[39m \u001b[38;5;241m2\u001b[39m\n",
      "\u001b[0;31mValueError\u001b[0m: operands could not be broadcast together with shapes (98,) (99,) "
     ]
    }
   ],
   "source": [
    "runge_kutta_solution = runge_kutta(u0, v0, c, dx, dt, nx, nt)"
   ]
  },
  {
   "cell_type": "code",
   "execution_count": 11,
   "metadata": {},
   "outputs": [
    {
     "data": {
      "text/plain": [
       "<Figure size 1200x600 with 0 Axes>"
      ]
     },
     "execution_count": 11,
     "metadata": {},
     "output_type": "execute_result"
    },
    {
     "data": {
      "text/plain": [
       "<Figure size 1200x600 with 0 Axes>"
      ]
     },
     "metadata": {},
     "output_type": "display_data"
    }
   ],
   "source": [
    "\n",
    "# 绘制结果\n",
    "plt.figure(figsize=(12, 6))\n",
    "\n"
   ]
  },
  {
   "cell_type": "code",
   "execution_count": 12,
   "metadata": {},
   "outputs": [
    {
     "data": {
      "text/plain": [
       "Text(0, 0.5, 't')"
      ]
     },
     "execution_count": 12,
     "metadata": {},
     "output_type": "execute_result"
    },
    {
     "data": {
      "image/png": "[encoded data removed]",
      "text/plain": [
       "<Figure size 640x480 with 2 Axes>"
      ]
     },
     "metadata": {},
     "output_type": "display_data"
    }
   ],
   "source": [
    "# 绘制 Newmark 法解\n",
    "plt.subplot(1, 2, 1)\n",
    "plt.imshow(newmark_solution, aspect='auto', extent=[0, L, T, 0], cmap='jet')\n",
    "plt.colorbar(label='Displacement')\n",
    "plt.title('Newmark Method')\n",
    "plt.xlabel('x')\n",
    "plt.ylabel('t')\n",
    "\n"
   ]
  },
  {
   "cell_type": "code",
   "execution_count": null,
   "metadata": {},
   "outputs": [],
   "source": [
    "# 绘制 Runge-Kutta 法解\n",
    "plt.subplot(1, 2, 2)\n",
    "plt.imshow(runge_kutta_solution, aspect='auto', extent=[0, L, T, 0], cmap='jet')\n",
    "plt.colorbar(label='Displacement')\n",
    "plt.title('Runge-Kutta Method')\n",
    "plt.xlabel('x')\n",
    "plt.ylabel('t')\n",
    "\n"
   ]
  },
  {
   "cell_type": "code",
   "execution_count": 13,
   "metadata": {},
   "outputs": [
    {
     "data": {
      "text/plain": [
       "<Figure size 640x480 with 0 Axes>"
      ]
     },
     "metadata": {},
     "output_type": "display_data"
    }
   ],
   "source": [
    "plt.tight_layout()\n",
    "plt.show()"
   ]
  }
 ],
 "metadata": {
  "kernelspec": {
   "display_name": ".venv",
   "language": "python",
   "name": "python3"
  },
  "language_info": {
   "codemirror_mode": {
    "name": "ipython",
    "version": 3
   },
   "file_extension": ".py",
   "mimetype": "text/x-python",
   "name": "python",
   "nbconvert_exporter": "python",
   "pygments_lexer": "ipython3",
   "version": "3.10.14"
  }
 },
 "nbformat": 4,
 "nbformat_minor": 2
}
